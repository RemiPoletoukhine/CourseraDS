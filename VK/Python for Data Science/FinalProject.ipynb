{
 "cells": [
  {
   "cell_type": "code",
   "execution_count": 1,
   "id": "4694c08f",
   "metadata": {},
   "outputs": [],
   "source": [
    "import numpy as np\n",
    "import pandas as pd\n",
    "import tensorflow as tf\n",
    "from sklearn.preprocessing import StandardScaler"
   ]
  },
  {
   "cell_type": "code",
   "execution_count": 2,
   "id": "321a78c9",
   "metadata": {},
   "outputs": [],
   "source": [
    "# data loading\n",
    "df_test = pd.read_csv('fashion-mnist_test.csv')\n",
    "df_train = pd.read_csv('fashion-mnist_train.csv')"
   ]
  },
  {
   "cell_type": "code",
   "execution_count": 3,
   "id": "4798b936",
   "metadata": {},
   "outputs": [],
   "source": [
    "y_test = df_test['label']\n",
    "y_train = df_train['label']"
   ]
  },
  {
   "cell_type": "code",
   "execution_count": 4,
   "id": "07e0af74",
   "metadata": {},
   "outputs": [],
   "source": [
    "df_test.drop('label', axis=1, inplace=True)\n",
    "df_train.drop('label', axis=1, inplace=True)"
   ]
  },
  {
   "cell_type": "code",
   "execution_count": 5,
   "id": "9498564a",
   "metadata": {},
   "outputs": [],
   "source": [
    "# data normalization\n",
    "scaler = StandardScaler()\n",
    "X_train = scaler.fit_transform(df_train)\n",
    "X_test = scaler.transform(df_test)"
   ]
  },
  {
   "cell_type": "code",
   "execution_count": 6,
   "id": "73f15158",
   "metadata": {},
   "outputs": [
    {
     "data": {
      "text/plain": [
       "(60000, 784)"
      ]
     },
     "execution_count": 6,
     "metadata": {},
     "output_type": "execute_result"
    }
   ],
   "source": [
    "# let's look at the shape\n",
    "X_train.shape"
   ]
  },
  {
   "cell_type": "markdown",
   "id": "80d64c4e",
   "metadata": {},
   "source": [
    "### Logistic regression"
   ]
  },
  {
   "cell_type": "code",
   "execution_count": 7,
   "id": "e49232a4",
   "metadata": {},
   "outputs": [],
   "source": [
    "# converts a class vector to binary class matrix\n",
    "y_train = tf.keras.utils.to_categorical(y_train)\n",
    "y_test = tf.keras.utils.to_categorical(y_test)"
   ]
  },
  {
   "cell_type": "code",
   "execution_count": 8,
   "id": "40ac2caa",
   "metadata": {},
   "outputs": [
    {
     "name": "stderr",
     "output_type": "stream",
     "text": [
      "2022-02-16 01:40:55.341076: I tensorflow/core/platform/cpu_feature_guard.cc:151] This TensorFlow binary is optimized with oneAPI Deep Neural Network Library (oneDNN) to use the following CPU instructions in performance-critical operations:  AVX2 FMA\n",
      "To enable them in other operations, rebuild TensorFlow with the appropriate compiler flags.\n"
     ]
    }
   ],
   "source": [
    "# logistic regression as a one layer neural network \n",
    "model = tf.keras.models.Sequential()\n",
    "model.add(tf.keras.layers.Dense(10, activation='softmax', input_shape = (784,)))"
   ]
  },
  {
   "cell_type": "code",
   "execution_count": 9,
   "id": "2c382582",
   "metadata": {},
   "outputs": [],
   "source": [
    "model.compile(\n",
    "    loss='categorical_crossentropy',\n",
    "    optimizer=tf.keras.optimizers.SGD(),\n",
    "    metrics=['accuracy']\n",
    "    \n",
    ")"
   ]
  },
  {
   "cell_type": "code",
   "execution_count": 10,
   "id": "b5e3307f",
   "metadata": {},
   "outputs": [],
   "source": [
    "%reload_ext tensorboard"
   ]
  },
  {
   "cell_type": "code",
   "execution_count": 11,
   "id": "85b8d041",
   "metadata": {},
   "outputs": [
    {
     "name": "stdout",
     "output_type": "stream",
     "text": [
      "Epoch 1/10\n",
      "1875/1875 [==============================] - 2s 1ms/step - loss: 0.5727 - accuracy: 0.8024 - val_loss: 0.4768 - val_accuracy: 0.8401\n",
      "Epoch 2/10\n",
      "1875/1875 [==============================] - 2s 1ms/step - loss: 0.4616 - accuracy: 0.8398 - val_loss: 0.4525 - val_accuracy: 0.8465\n",
      "Epoch 3/10\n",
      "1875/1875 [==============================] - 2s 1ms/step - loss: 0.4404 - accuracy: 0.8471 - val_loss: 0.4416 - val_accuracy: 0.8506\n",
      "Epoch 4/10\n",
      "1875/1875 [==============================] - 2s 999us/step - loss: 0.4282 - accuracy: 0.8516 - val_loss: 0.4426 - val_accuracy: 0.8521\n",
      "Epoch 5/10\n",
      "1875/1875 [==============================] - 2s 986us/step - loss: 0.4201 - accuracy: 0.8554 - val_loss: 0.4390 - val_accuracy: 0.8529\n",
      "Epoch 6/10\n",
      "1875/1875 [==============================] - 2s 993us/step - loss: 0.4144 - accuracy: 0.8565 - val_loss: 0.4397 - val_accuracy: 0.8526\n",
      "Epoch 7/10\n",
      "1875/1875 [==============================] - 2s 1ms/step - loss: 0.4090 - accuracy: 0.8584 - val_loss: 0.4329 - val_accuracy: 0.8522\n",
      "Epoch 8/10\n",
      "1875/1875 [==============================] - 2s 1000us/step - loss: 0.4058 - accuracy: 0.8599 - val_loss: 0.4286 - val_accuracy: 0.8572\n",
      "Epoch 9/10\n",
      "1875/1875 [==============================] - 2s 1ms/step - loss: 0.4021 - accuracy: 0.8615 - val_loss: 0.4309 - val_accuracy: 0.8546\n",
      "Epoch 10/10\n",
      "1875/1875 [==============================] - 2s 1ms/step - loss: 0.3993 - accuracy: 0.8622 - val_loss: 0.4307 - val_accuracy: 0.8517\n"
     ]
    }
   ],
   "source": [
    "tensorboard_callback = tf.keras.callbacks.TensorBoard(log_dir='./logs')\n",
    "epoch = 10\n",
    "\n",
    "_ = model.fit(\n",
    "    X_train, y_train,\n",
    "    validation_data=(X_test, y_test),\n",
    "    epochs=epoch,\n",
    "    callbacks=[tensorboard_callback]\n",
    ")"
   ]
  },
  {
   "cell_type": "code",
   "execution_count": 12,
   "id": "03b95b17",
   "metadata": {},
   "outputs": [
    {
     "data": {
      "text/html": [
       "\n",
       "      <iframe id=\"tensorboard-frame-133b502ddd986dbe\" width=\"100%\" height=\"800\" frameborder=\"0\">\n",
       "      </iframe>\n",
       "      <script>\n",
       "        (function() {\n",
       "          const frame = document.getElementById(\"tensorboard-frame-133b502ddd986dbe\");\n",
       "          const url = new URL(\"/\", window.location);\n",
       "          const port = 6011;\n",
       "          if (port) {\n",
       "            url.port = port;\n",
       "          }\n",
       "          frame.src = url;\n",
       "        })();\n",
       "      </script>\n",
       "    "
      ],
      "text/plain": [
       "<IPython.core.display.HTML object>"
      ]
     },
     "metadata": {},
     "output_type": "display_data"
    }
   ],
   "source": [
    "# the graph is downloaded (linear_graph.svg) and located in the archieve\n",
    "%tensorboard --logdir logs"
   ]
  },
  {
   "cell_type": "code",
   "execution_count": 13,
   "id": "0e6f4221",
   "metadata": {},
   "outputs": [
    {
     "name": "stdout",
     "output_type": "stream",
     "text": [
      "313/313 [==============================] - 0s 1ms/step - loss: 0.4307 - accuracy: 0.8517\n",
      "Accuracy equals to:  0.85\n"
     ]
    }
   ],
   "source": [
    "_, accuracy = model.evaluate(X_test, y_test)\n",
    "print('Accuracy equals to: ', round(accuracy, 2))"
   ]
  },
  {
   "cell_type": "markdown",
   "id": "4b00338c",
   "metadata": {},
   "source": [
    "### FCNN"
   ]
  },
  {
   "cell_type": "code",
   "execution_count": 14,
   "id": "871ff0d1",
   "metadata": {},
   "outputs": [],
   "source": [
    "model_fcnn = tf.keras.models.Sequential()\n",
    "model_fcnn.add(tf.keras.layers.Dense(64, activation='relu', input_shape = (784,)))\n",
    "model_fcnn.add(tf.keras.layers.Dense(64, activation='relu'))\n",
    "model_fcnn.add(tf.keras.layers.Dense(10, activation='softmax'))"
   ]
  },
  {
   "cell_type": "code",
   "execution_count": 15,
   "id": "f121d973",
   "metadata": {},
   "outputs": [],
   "source": [
    "model_fcnn.compile(\n",
    "    loss='categorical_crossentropy',\n",
    "    optimizer=tf.keras.optimizers.SGD(),\n",
    "    metrics=['accuracy']\n",
    "    \n",
    ")"
   ]
  },
  {
   "cell_type": "code",
   "execution_count": 16,
   "id": "fcd4150f",
   "metadata": {},
   "outputs": [],
   "source": [
    "%reload_ext tensorboard"
   ]
  },
  {
   "cell_type": "code",
   "execution_count": 17,
   "id": "d212a557",
   "metadata": {
    "scrolled": true
   },
   "outputs": [
    {
     "name": "stdout",
     "output_type": "stream",
     "text": [
      "Epoch 1/10\n",
      "1875/1875 [==============================] - 4s 2ms/step - loss: 0.5824 - accuracy: 0.7966 - val_loss: 0.4423 - val_accuracy: 0.8427\n",
      "Epoch 2/10\n",
      "1875/1875 [==============================] - 3s 2ms/step - loss: 0.4047 - accuracy: 0.8547 - val_loss: 0.3934 - val_accuracy: 0.8603\n",
      "Epoch 3/10\n",
      "1875/1875 [==============================] - 3s 1ms/step - loss: 0.3665 - accuracy: 0.8682 - val_loss: 0.3669 - val_accuracy: 0.8703\n",
      "Epoch 4/10\n",
      "1875/1875 [==============================] - 3s 2ms/step - loss: 0.3416 - accuracy: 0.8772 - val_loss: 0.3577 - val_accuracy: 0.8713\n",
      "Epoch 5/10\n",
      "1875/1875 [==============================] - 3s 2ms/step - loss: 0.3238 - accuracy: 0.8828 - val_loss: 0.3457 - val_accuracy: 0.8763\n",
      "Epoch 6/10\n",
      "1875/1875 [==============================] - 3s 2ms/step - loss: 0.3079 - accuracy: 0.8884 - val_loss: 0.3380 - val_accuracy: 0.8762\n",
      "Epoch 7/10\n",
      "1875/1875 [==============================] - 3s 1ms/step - loss: 0.2946 - accuracy: 0.8928 - val_loss: 0.3402 - val_accuracy: 0.8746\n",
      "Epoch 8/10\n",
      "1875/1875 [==============================] - 3s 1ms/step - loss: 0.2840 - accuracy: 0.8978 - val_loss: 0.3388 - val_accuracy: 0.8799\n",
      "Epoch 9/10\n",
      "1875/1875 [==============================] - 3s 2ms/step - loss: 0.2736 - accuracy: 0.9004 - val_loss: 0.3217 - val_accuracy: 0.8823\n",
      "Epoch 10/10\n",
      "1875/1875 [==============================] - 3s 2ms/step - loss: 0.2642 - accuracy: 0.9046 - val_loss: 0.3255 - val_accuracy: 0.8782\n"
     ]
    }
   ],
   "source": [
    "tensorboard_callback = tf.keras.callbacks.TensorBoard(log_dir='./logs_fcnn')\n",
    "epoch = 10\n",
    "\n",
    "_ = model_fcnn.fit(\n",
    "    X_train, y_train,\n",
    "    validation_data=(X_test, y_test),\n",
    "    epochs=epoch,\n",
    "    callbacks=[tensorboard_callback]\n",
    ")\n"
   ]
  },
  {
   "cell_type": "code",
   "execution_count": 18,
   "id": "ef4809b1",
   "metadata": {
    "scrolled": false
   },
   "outputs": [
    {
     "data": {
      "text/html": [
       "\n",
       "      <iframe id=\"tensorboard-frame-743e37a00635050a\" width=\"100%\" height=\"800\" frameborder=\"0\">\n",
       "      </iframe>\n",
       "      <script>\n",
       "        (function() {\n",
       "          const frame = document.getElementById(\"tensorboard-frame-743e37a00635050a\");\n",
       "          const url = new URL(\"/\", window.location);\n",
       "          const port = 6012;\n",
       "          if (port) {\n",
       "            url.port = port;\n",
       "          }\n",
       "          frame.src = url;\n",
       "        })();\n",
       "      </script>\n",
       "    "
      ],
      "text/plain": [
       "<IPython.core.display.HTML object>"
      ]
     },
     "metadata": {},
     "output_type": "display_data"
    }
   ],
   "source": [
    "# the graph is downloaded (fcnn_graph.svg) and located in the archieve\n",
    "%tensorboard --logdir logs_fcnn"
   ]
  },
  {
   "cell_type": "code",
   "execution_count": 19,
   "id": "588b5735",
   "metadata": {},
   "outputs": [
    {
     "name": "stdout",
     "output_type": "stream",
     "text": [
      "313/313 [==============================] - 0s 1ms/step - loss: 0.3255 - accuracy: 0.8782\n",
      "Accuracy equals to:  0.88\n"
     ]
    }
   ],
   "source": [
    "_, accuracy_fcnn = model_fcnn.evaluate(X_test, y_test)\n",
    "print('Accuracy equals to: ', round(accuracy_fcnn, 2))"
   ]
  },
  {
   "cell_type": "markdown",
   "id": "181d956b",
   "metadata": {},
   "source": [
    "We see that the accuracy has improved thanks to the increased the number of weights in the network (due to the bigger number of layers). So, the model complexity has gone up and, since we have a relatively large dataset, it resulted in a higher accuracy (and not in the overfitting)."
   ]
  },
  {
   "cell_type": "markdown",
   "id": "28e65069",
   "metadata": {},
   "source": [
    "### CNN"
   ]
  },
  {
   "cell_type": "code",
   "execution_count": 20,
   "id": "b6d11f2e",
   "metadata": {},
   "outputs": [],
   "source": [
    "X_train = X_train.reshape(60000, 28, 28)\n",
    "X_test = X_test.reshape(10000, 28, 28)"
   ]
  },
  {
   "cell_type": "code",
   "execution_count": 21,
   "id": "f00472a2",
   "metadata": {},
   "outputs": [],
   "source": [
    "model_cnn = tf.keras.models.Sequential()\n",
    "model_cnn.add(tf.keras.layers.Input(shape=(28, 28, 1)))\n",
    "model_cnn.add(tf.keras.layers.Conv2D(filters=32, kernel_size=3, activation='relu'))\n",
    "model_cnn.add(tf.keras.layers.MaxPooling2D(pool_size=(2, 2)))\n",
    "model_cnn.add(tf.keras.layers.Conv2D(filters=64, kernel_size=3, activation='relu'))\n",
    "model_cnn.add(tf.keras.layers.MaxPooling2D(pool_size=(2, 2)))\n",
    "model_cnn.add(tf.keras.layers.Flatten())\n",
    "model_cnn.add(tf.keras.layers.Dense(10, activation='softmax'))"
   ]
  },
  {
   "cell_type": "code",
   "execution_count": 22,
   "id": "a911f288",
   "metadata": {},
   "outputs": [],
   "source": [
    "model_cnn.compile(\n",
    "    loss='categorical_crossentropy',\n",
    "    optimizer=tf.keras.optimizers.SGD(),\n",
    "    metrics=['accuracy']\n",
    "    \n",
    ")"
   ]
  },
  {
   "cell_type": "code",
   "execution_count": 23,
   "id": "73b03685",
   "metadata": {},
   "outputs": [],
   "source": [
    "%reload_ext tensorboard"
   ]
  },
  {
   "cell_type": "code",
   "execution_count": 24,
   "id": "278fb3f4",
   "metadata": {},
   "outputs": [
    {
     "name": "stdout",
     "output_type": "stream",
     "text": [
      "Epoch 1/10\n",
      "1875/1875 [==============================] - 27s 14ms/step - loss: 0.7060 - accuracy: 0.7540 - val_loss: 0.5045 - val_accuracy: 0.8168\n",
      "Epoch 2/10\n",
      "1875/1875 [==============================] - 29s 15ms/step - loss: 0.4518 - accuracy: 0.8395 - val_loss: 0.4215 - val_accuracy: 0.8488\n",
      "Epoch 3/10\n",
      "1875/1875 [==============================] - 27s 14ms/step - loss: 0.3972 - accuracy: 0.8592 - val_loss: 0.3690 - val_accuracy: 0.8740\n",
      "Epoch 4/10\n",
      "1875/1875 [==============================] - 27s 14ms/step - loss: 0.3642 - accuracy: 0.8711 - val_loss: 0.3489 - val_accuracy: 0.8790\n",
      "Epoch 5/10\n",
      "1875/1875 [==============================] - 25s 13ms/step - loss: 0.3437 - accuracy: 0.8798 - val_loss: 0.3457 - val_accuracy: 0.8783\n",
      "Epoch 6/10\n",
      "1875/1875 [==============================] - 23s 12ms/step - loss: 0.3257 - accuracy: 0.8848 - val_loss: 0.3404 - val_accuracy: 0.8788\n",
      "Epoch 7/10\n",
      "1875/1875 [==============================] - 23s 12ms/step - loss: 0.3127 - accuracy: 0.8877 - val_loss: 0.3127 - val_accuracy: 0.8871\n",
      "Epoch 8/10\n",
      "1875/1875 [==============================] - 22s 12ms/step - loss: 0.3008 - accuracy: 0.8932 - val_loss: 0.3141 - val_accuracy: 0.8884\n",
      "Epoch 9/10\n",
      "1875/1875 [==============================] - 22s 12ms/step - loss: 0.2913 - accuracy: 0.8968 - val_loss: 0.3066 - val_accuracy: 0.8920\n",
      "Epoch 10/10\n",
      "1875/1875 [==============================] - 22s 12ms/step - loss: 0.2825 - accuracy: 0.8991 - val_loss: 0.3060 - val_accuracy: 0.8920\n"
     ]
    }
   ],
   "source": [
    "tensorboard_callback = tf.keras.callbacks.TensorBoard(log_dir='./logs_cnn')\n",
    "epoch = 10\n",
    "\n",
    "_ = model_cnn.fit(\n",
    "    X_train, y_train,\n",
    "    validation_data=(X_test, y_test),\n",
    "    epochs=epoch,\n",
    "    callbacks=[tensorboard_callback]\n",
    ")"
   ]
  },
  {
   "cell_type": "code",
   "execution_count": 25,
   "id": "be735622",
   "metadata": {},
   "outputs": [
    {
     "data": {
      "text/html": [
       "\n",
       "      <iframe id=\"tensorboard-frame-c29dfb795690f1d6\" width=\"100%\" height=\"800\" frameborder=\"0\">\n",
       "      </iframe>\n",
       "      <script>\n",
       "        (function() {\n",
       "          const frame = document.getElementById(\"tensorboard-frame-c29dfb795690f1d6\");\n",
       "          const url = new URL(\"/\", window.location);\n",
       "          const port = 6013;\n",
       "          if (port) {\n",
       "            url.port = port;\n",
       "          }\n",
       "          frame.src = url;\n",
       "        })();\n",
       "      </script>\n",
       "    "
      ],
      "text/plain": [
       "<IPython.core.display.HTML object>"
      ]
     },
     "metadata": {},
     "output_type": "display_data"
    }
   ],
   "source": [
    "# the graph is downloaded (cnn_graph.svg) and located in the archieve\n",
    "%tensorboard --logdir logs_cnn"
   ]
  },
  {
   "cell_type": "code",
   "execution_count": 26,
   "id": "3c13b612",
   "metadata": {},
   "outputs": [
    {
     "name": "stdout",
     "output_type": "stream",
     "text": [
      "313/313 [==============================] - 2s 6ms/step - loss: 0.3060 - accuracy: 0.8920\n",
      "Accuracy equals to:  0.89\n"
     ]
    }
   ],
   "source": [
    "_, accuracy_cnn = model_cnn.evaluate(X_test, y_test)\n",
    "print('Accuracy equals to: ', round(accuracy_cnn, 2))"
   ]
  },
  {
   "cell_type": "markdown",
   "id": "57d6070a",
   "metadata": {},
   "source": [
    "Accuracy still rises."
   ]
  },
  {
   "cell_type": "markdown",
   "id": "027dda52",
   "metadata": {},
   "source": [
    "### CNN 2"
   ]
  },
  {
   "cell_type": "code",
   "execution_count": 27,
   "id": "6fe1ff2a",
   "metadata": {},
   "outputs": [],
   "source": [
    "# let's add 2 extra layers\n",
    "model_cnn_double = tf.keras.models.Sequential()\n",
    "model_cnn_double.add(tf.keras.layers.Input(shape=(28, 28, 1)))\n",
    "model_cnn_double.add(tf.keras.layers.Conv2D(filters=32, kernel_size=3, activation='relu'))\n",
    "model_cnn_double.add(tf.keras.layers.MaxPooling2D(pool_size=(2, 2)))\n",
    "model_cnn_double.add(tf.keras.layers.Conv2D(filters=64, kernel_size=3, activation='relu'))\n",
    "model_cnn_double.add(tf.keras.layers.MaxPooling2D(pool_size=(2, 2)))\n",
    "model_cnn_double.add(tf.keras.layers.Conv2D(filters=128, kernel_size=3, activation='relu'))\n",
    "model_cnn_double.add(tf.keras.layers.Conv2D(filters=64, kernel_size=3, activation='relu'))\n",
    "model_cnn_double.add(tf.keras.layers.Flatten())\n",
    "model_cnn_double.add(tf.keras.layers.Dense(10, activation='softmax'))"
   ]
  },
  {
   "cell_type": "code",
   "execution_count": 28,
   "id": "80dc653f",
   "metadata": {},
   "outputs": [],
   "source": [
    "model_cnn_double.compile(\n",
    "    loss='categorical_crossentropy',\n",
    "    optimizer=tf.keras.optimizers.SGD(),\n",
    "    metrics=['accuracy']\n",
    "    \n",
    ")"
   ]
  },
  {
   "cell_type": "code",
   "execution_count": 29,
   "id": "97cefab5",
   "metadata": {},
   "outputs": [],
   "source": [
    "%reload_ext tensorboard"
   ]
  },
  {
   "cell_type": "code",
   "execution_count": 30,
   "id": "4988c41e",
   "metadata": {},
   "outputs": [
    {
     "name": "stdout",
     "output_type": "stream",
     "text": [
      "Epoch 1/10\n",
      "1875/1875 [==============================] - 31s 16ms/step - loss: 0.7510 - accuracy: 0.7284 - val_loss: 0.5138 - val_accuracy: 0.8049\n",
      "Epoch 2/10\n",
      "1875/1875 [==============================] - 29s 16ms/step - loss: 0.4644 - accuracy: 0.8296 - val_loss: 0.4097 - val_accuracy: 0.8504\n",
      "Epoch 3/10\n",
      "1875/1875 [==============================] - 30s 16ms/step - loss: 0.3968 - accuracy: 0.8561 - val_loss: 0.3791 - val_accuracy: 0.8608\n",
      "Epoch 4/10\n",
      "1875/1875 [==============================] - 30s 16ms/step - loss: 0.3574 - accuracy: 0.8703 - val_loss: 0.3463 - val_accuracy: 0.8700\n",
      "Epoch 5/10\n",
      "1875/1875 [==============================] - 30s 16ms/step - loss: 0.3302 - accuracy: 0.8802 - val_loss: 0.3258 - val_accuracy: 0.8803\n",
      "Epoch 6/10\n",
      "1875/1875 [==============================] - 30s 16ms/step - loss: 0.3098 - accuracy: 0.8885 - val_loss: 0.3116 - val_accuracy: 0.8861\n",
      "Epoch 7/10\n",
      "1875/1875 [==============================] - 30s 16ms/step - loss: 0.2945 - accuracy: 0.8932 - val_loss: 0.3030 - val_accuracy: 0.8895\n",
      "Epoch 8/10\n",
      "1875/1875 [==============================] - 30s 16ms/step - loss: 0.2799 - accuracy: 0.8992 - val_loss: 0.2929 - val_accuracy: 0.8929\n",
      "Epoch 9/10\n",
      "1875/1875 [==============================] - 33s 17ms/step - loss: 0.2662 - accuracy: 0.9036 - val_loss: 0.2960 - val_accuracy: 0.8926\n",
      "Epoch 10/10\n",
      "1875/1875 [==============================] - 36s 19ms/step - loss: 0.2564 - accuracy: 0.9058 - val_loss: 0.2999 - val_accuracy: 0.8933\n"
     ]
    }
   ],
   "source": [
    "tensorboard_callback = tf.keras.callbacks.TensorBoard(log_dir='./logs_cnn2')\n",
    "epoch = 10\n",
    "\n",
    "_ = model_cnn_double.fit(\n",
    "    X_train, y_train,\n",
    "    validation_data=(X_test, y_test),\n",
    "    epochs=epoch,\n",
    "    callbacks=[tensorboard_callback]\n",
    ")"
   ]
  },
  {
   "cell_type": "code",
   "execution_count": 31,
   "id": "35689d62",
   "metadata": {},
   "outputs": [
    {
     "data": {
      "text/html": [
       "\n",
       "      <iframe id=\"tensorboard-frame-d2aea02173cc76b1\" width=\"100%\" height=\"800\" frameborder=\"0\">\n",
       "      </iframe>\n",
       "      <script>\n",
       "        (function() {\n",
       "          const frame = document.getElementById(\"tensorboard-frame-d2aea02173cc76b1\");\n",
       "          const url = new URL(\"/\", window.location);\n",
       "          const port = 6014;\n",
       "          if (port) {\n",
       "            url.port = port;\n",
       "          }\n",
       "          frame.src = url;\n",
       "        })();\n",
       "      </script>\n",
       "    "
      ],
      "text/plain": [
       "<IPython.core.display.HTML object>"
      ]
     },
     "metadata": {},
     "output_type": "display_data"
    }
   ],
   "source": [
    "# the graph is downloaded (cnn2_graph.svg) and located in the archieve\n",
    "%tensorboard --logdir logs_cnn2"
   ]
  },
  {
   "cell_type": "code",
   "execution_count": 32,
   "id": "5990c24b",
   "metadata": {},
   "outputs": [
    {
     "name": "stdout",
     "output_type": "stream",
     "text": [
      "313/313 [==============================] - 2s 6ms/step - loss: 0.2999 - accuracy: 0.8933\n",
      "Accuracy equals to:  0.89\n"
     ]
    }
   ],
   "source": [
    "_, accuracy_cnn_double = model_cnn_double.evaluate(X_test, y_test)\n",
    "print('Accuracy equals to: ', round(accuracy_cnn_double, 2))"
   ]
  },
  {
   "cell_type": "markdown",
   "id": "fd0ce225",
   "metadata": {},
   "source": [
    "As we see, the accuracy has decreased: excessive number of layers led to overfitting."
   ]
  },
  {
   "cell_type": "markdown",
   "id": "19005bd3",
   "metadata": {},
   "source": [
    "### With Batch Normalization"
   ]
  },
  {
   "cell_type": "code",
   "execution_count": 33,
   "id": "d2ef9ad2",
   "metadata": {},
   "outputs": [],
   "source": [
    "# let's get back to the first CNN model and add BatchNormalization layers\n",
    "model_bn = tf.keras.models.Sequential()\n",
    "model_bn.add(tf.keras.layers.Input(shape=(28, 28, 1)))\n",
    "model_bn.add(tf.keras.layers.Conv2D(filters=32, kernel_size=3, activation='relu'))\n",
    "model_bn.add(tf.keras.layers.BatchNormalization())\n",
    "model_bn.add(tf.keras.layers.MaxPooling2D(pool_size=(2, 2)))\n",
    "model_bn.add(tf.keras.layers.Conv2D(filters=64, kernel_size=3, activation='relu'))\n",
    "model_bn.add(tf.keras.layers.BatchNormalization())\n",
    "model_bn.add(tf.keras.layers.MaxPooling2D(pool_size=(2, 2)))\n",
    "model_bn.add(tf.keras.layers.Flatten())\n",
    "model_bn.add(tf.keras.layers.Dense(10, activation='softmax'))"
   ]
  },
  {
   "cell_type": "code",
   "execution_count": 34,
   "id": "aaf7f1cb",
   "metadata": {},
   "outputs": [],
   "source": [
    "model_bn.compile(\n",
    "    loss='categorical_crossentropy',\n",
    "    optimizer=tf.keras.optimizers.SGD(),\n",
    "    metrics=['accuracy']\n",
    "    \n",
    ")"
   ]
  },
  {
   "cell_type": "code",
   "execution_count": 35,
   "id": "60c409f6",
   "metadata": {},
   "outputs": [],
   "source": [
    "%reload_ext tensorboard"
   ]
  },
  {
   "cell_type": "code",
   "execution_count": 36,
   "id": "89d78249",
   "metadata": {},
   "outputs": [
    {
     "name": "stdout",
     "output_type": "stream",
     "text": [
      "Epoch 1/10\n",
      "1875/1875 [==============================] - 50s 26ms/step - loss: 0.4472 - accuracy: 0.8439 - val_loss: 0.3416 - val_accuracy: 0.8817\n",
      "Epoch 2/10\n",
      "1875/1875 [==============================] - 48s 26ms/step - loss: 0.3182 - accuracy: 0.8874 - val_loss: 0.3234 - val_accuracy: 0.8851\n",
      "Epoch 3/10\n",
      "1875/1875 [==============================] - 49s 26ms/step - loss: 0.2800 - accuracy: 0.8992 - val_loss: 0.2880 - val_accuracy: 0.8987\n",
      "Epoch 4/10\n",
      "1875/1875 [==============================] - 48s 26ms/step - loss: 0.2550 - accuracy: 0.9089 - val_loss: 0.2915 - val_accuracy: 0.8977\n",
      "Epoch 5/10\n",
      "1875/1875 [==============================] - 48s 26ms/step - loss: 0.2351 - accuracy: 0.9159 - val_loss: 0.2883 - val_accuracy: 0.8998\n",
      "Epoch 6/10\n",
      "1875/1875 [==============================] - 43s 23ms/step - loss: 0.2205 - accuracy: 0.9208 - val_loss: 0.2895 - val_accuracy: 0.8950\n",
      "Epoch 7/10\n",
      "1875/1875 [==============================] - 42s 22ms/step - loss: 0.2087 - accuracy: 0.9240 - val_loss: 0.2896 - val_accuracy: 0.8996\n",
      "Epoch 8/10\n",
      "1875/1875 [==============================] - 42s 22ms/step - loss: 0.1988 - accuracy: 0.9286 - val_loss: 0.2794 - val_accuracy: 0.9048\n",
      "Epoch 9/10\n",
      "1875/1875 [==============================] - 42s 22ms/step - loss: 0.1872 - accuracy: 0.9325 - val_loss: 0.2797 - val_accuracy: 0.9089\n",
      "Epoch 10/10\n",
      "1875/1875 [==============================] - 42s 23ms/step - loss: 0.1789 - accuracy: 0.9359 - val_loss: 0.2898 - val_accuracy: 0.9029\n"
     ]
    }
   ],
   "source": [
    "tensorboard_callback = tf.keras.callbacks.TensorBoard(log_dir='./logs_bn')\n",
    "epoch = 10\n",
    "\n",
    "_ = model_bn.fit(\n",
    "    X_train, y_train,\n",
    "    validation_data=(X_test, y_test),\n",
    "    epochs=epoch,\n",
    "    callbacks=[tensorboard_callback]\n",
    ")"
   ]
  },
  {
   "cell_type": "code",
   "execution_count": 37,
   "id": "6d9f2460",
   "metadata": {},
   "outputs": [
    {
     "data": {
      "text/html": [
       "\n",
       "      <iframe id=\"tensorboard-frame-12c857a82d81caa6\" width=\"100%\" height=\"800\" frameborder=\"0\">\n",
       "      </iframe>\n",
       "      <script>\n",
       "        (function() {\n",
       "          const frame = document.getElementById(\"tensorboard-frame-12c857a82d81caa6\");\n",
       "          const url = new URL(\"/\", window.location);\n",
       "          const port = 6015;\n",
       "          if (port) {\n",
       "            url.port = port;\n",
       "          }\n",
       "          frame.src = url;\n",
       "        })();\n",
       "      </script>\n",
       "    "
      ],
      "text/plain": [
       "<IPython.core.display.HTML object>"
      ]
     },
     "metadata": {},
     "output_type": "display_data"
    }
   ],
   "source": [
    "# the graph is downloaded (bn_graph.svg) and located in the archieve\n",
    "%tensorboard --logdir logs_bn"
   ]
  },
  {
   "cell_type": "code",
   "execution_count": 38,
   "id": "6232d303",
   "metadata": {},
   "outputs": [
    {
     "name": "stdout",
     "output_type": "stream",
     "text": [
      "313/313 [==============================] - 2s 7ms/step - loss: 0.2898 - accuracy: 0.9029\n",
      "Accuracy equals to:  0.9\n"
     ]
    }
   ],
   "source": [
    "_, accuracy_bn = model_bn.evaluate(X_test, y_test)\n",
    "print('Accuracy equals to: ', round(accuracy_bn, 2))"
   ]
  },
  {
   "cell_type": "markdown",
   "id": "f4391816",
   "metadata": {},
   "source": [
    "As it was predicted in the description of the task, the model with Batch Normalization showed the best results in accuracy."
   ]
  }
 ],
 "metadata": {
  "kernelspec": {
   "display_name": "Python 3 (ipykernel)",
   "language": "python",
   "name": "python3"
  },
  "language_info": {
   "codemirror_mode": {
    "name": "ipython",
    "version": 3
   },
   "file_extension": ".py",
   "mimetype": "text/x-python",
   "name": "python",
   "nbconvert_exporter": "python",
   "pygments_lexer": "ipython3",
   "version": "3.9.7"
  }
 },
 "nbformat": 4,
 "nbformat_minor": 5
}
